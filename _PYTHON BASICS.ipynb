{
 "cells": [
  {
   "cell_type": "code",
   "execution_count": 1,
   "id": "d35693d3",
   "metadata": {},
   "outputs": [
    {
     "name": "stdout",
     "output_type": "stream",
     "text": [
      "hello world\n"
     ]
    }
   ],
   "source": [
    "print(\"hello world\")"
   ]
  },
  {
   "cell_type": "code",
   "execution_count": 2,
   "id": "12498d37",
   "metadata": {},
   "outputs": [
    {
     "name": "stdout",
     "output_type": "stream",
     "text": [
      "santosh\n"
     ]
    }
   ],
   "source": [
    "name = \"santosh\"\n",
    "print(name)"
   ]
  },
  {
   "cell_type": "code",
   "execution_count": 4,
   "id": "d2676898",
   "metadata": {},
   "outputs": [
    {
     "name": "stdout",
     "output_type": "stream",
     "text": [
      "1234\n"
     ]
    }
   ],
   "source": [
    "number = \"1234\"\n",
    "print(number)"
   ]
  },
  {
   "cell_type": "code",
   "execution_count": 1,
   "id": "517e183b",
   "metadata": {},
   "outputs": [
    {
     "name": "stdout",
     "output_type": "stream",
     "text": [
      "<class 'int'>\n"
     ]
    }
   ],
   "source": [
    "integer=123\n",
    "print(type(integer))"
   ]
  },
  {
   "cell_type": "code",
   "execution_count": 2,
   "id": "dff620bd",
   "metadata": {},
   "outputs": [
    {
     "name": "stdout",
     "output_type": "stream",
     "text": [
      "3\n"
     ]
    }
   ],
   "source": [
    "a=3.4\n",
    "print(int(a))"
   ]
  },
  {
   "cell_type": "code",
   "execution_count": 3,
   "id": "f9a6464f",
   "metadata": {},
   "outputs": [
    {
     "name": "stdout",
     "output_type": "stream",
     "text": [
      "3.0\n"
     ]
    }
   ],
   "source": [
    "a=3\n",
    "print(float(a))"
   ]
  },
  {
   "cell_type": "code",
   "execution_count": 4,
   "id": "6df8310c",
   "metadata": {},
   "outputs": [
    {
     "name": "stdout",
     "output_type": "stream",
     "text": [
      "6\n"
     ]
    }
   ],
   "source": [
    "print(2+4)"
   ]
  },
  {
   "cell_type": "code",
   "execution_count": 5,
   "id": "4a86fad0",
   "metadata": {},
   "outputs": [
    {
     "name": "stdout",
     "output_type": "stream",
     "text": [
      "6\n"
     ]
    }
   ],
   "source": [
    "print(2--4)"
   ]
  },
  {
   "cell_type": "code",
   "execution_count": 6,
   "id": "04cc5800",
   "metadata": {},
   "outputs": [
    {
     "name": "stdout",
     "output_type": "stream",
     "text": [
      "16\n"
     ]
    }
   ],
   "source": [
    "print(2**4)"
   ]
  },
  {
   "cell_type": "code",
   "execution_count": 7,
   "id": "f5daa356",
   "metadata": {},
   "outputs": [
    {
     "name": "stdout",
     "output_type": "stream",
     "text": [
      "2\n"
     ]
    }
   ],
   "source": [
    "print(5//2)"
   ]
  },
  {
   "cell_type": "code",
   "execution_count": 8,
   "id": "b8239f2e",
   "metadata": {},
   "outputs": [
    {
     "name": "stdout",
     "output_type": "stream",
     "text": [
      "single quotes\n",
      "double quotes\n"
     ]
    }
   ],
   "source": [
    "single_quote_str='single quotes'\n",
    "double_quote_str=\"double quotes\"\n",
    "print(single_quote_str)\n",
    "print(double_quote_str)\n"
   ]
  },
  {
   "cell_type": "code",
   "execution_count": 9,
   "id": "5630ea40",
   "metadata": {},
   "outputs": [
    {
     "name": "stdout",
     "output_type": "stream",
     "text": [
      "I 'love' you\n"
     ]
    }
   ],
   "source": [
    "sentence1=\"I 'love' you\"\n",
    "print(sentence1)"
   ]
  },
  {
   "cell_type": "code",
   "execution_count": 10,
   "id": "470d9d17",
   "metadata": {},
   "outputs": [
    {
     "name": "stdout",
     "output_type": "stream",
     "text": [
      "I \"love\" you\n"
     ]
    }
   ],
   "source": [
    "sentence2='I \"love\" you'\n",
    "print(sentence2)"
   ]
  },
  {
   "cell_type": "code",
   "execution_count": 12,
   "id": "3a6d2faf",
   "metadata": {},
   "outputs": [
    {
     "ename": "SyntaxError",
     "evalue": "invalid syntax (<ipython-input-12-4767c93b3447>, line 1)",
     "output_type": "error",
     "traceback": [
      "\u001b[1;36m  File \u001b[1;32m\"<ipython-input-12-4767c93b3447>\"\u001b[1;36m, line \u001b[1;32m1\u001b[0m\n\u001b[1;33m    sentence1=\"I \"love\" you\"\u001b[0m\n\u001b[1;37m                  ^\u001b[0m\n\u001b[1;31mSyntaxError\u001b[0m\u001b[1;31m:\u001b[0m invalid syntax\n"
     ]
    }
   ],
   "source": [
    "sentence1=\"I \"love\" you\"\n",
    "print(sentence1) #throws error"
   ]
  },
  {
   "cell_type": "code",
   "execution_count": 13,
   "id": "1e80a849",
   "metadata": {},
   "outputs": [
    {
     "name": "stdout",
     "output_type": "stream",
     "text": [
      "I \"love\" you\n"
     ]
    }
   ],
   "source": [
    "sentence1=\"I \\\"love\\\" you\"\n",
    "print(sentence1) "
   ]
  },
  {
   "cell_type": "code",
   "execution_count": 14,
   "id": "214e6c29",
   "metadata": {},
   "outputs": [
    {
     "name": "stdout",
     "output_type": "stream",
     "text": [
      "this is\n",
      "a long paragraph\n"
     ]
    }
   ],
   "source": [
    "paragraph = '''this is\n",
    "a long paragraph'''\n",
    "print(paragraph) #multiple lines"
   ]
  },
  {
   "cell_type": "code",
   "execution_count": 17,
   "id": "9228a8bd",
   "metadata": {},
   "outputs": [
    {
     "name": "stdout",
     "output_type": "stream",
     "text": [
      "apples\n",
      "APPLES\n",
      "science\n",
      "Science\n"
     ]
    }
   ],
   "source": [
    "#string functions\n",
    "science = \"SCIENCE\"\n",
    "apple = \"apples\"\n",
    "print(apple)\n",
    "apple = apple.upper()\n",
    "print(apple)\n",
    "print(science.lower())\n",
    "print(science.title())\n",
    "\n"
   ]
  },
  {
   "cell_type": "code",
   "execution_count": 19,
   "id": "118d1f63",
   "metadata": {},
   "outputs": [
    {
     "name": "stdout",
     "output_type": "stream",
     "text": [
      "apple\n",
      "APPLE\n"
     ]
    }
   ],
   "source": [
    "apple = \"       apple      \"\n",
    "print(apple.strip())\n",
    "print(apple.strip().upper())"
   ]
  },
  {
   "cell_type": "code",
   "execution_count": 27,
   "id": "4f7354ba",
   "metadata": {},
   "outputs": [
    {
     "name": "stdout",
     "output_type": "stream",
     "text": [
      "python is an awesome language\n",
      "python is an awesome snake\n",
      "python is an awesome snakepython is an awesome snake\n",
      "python is an awesome languagepython is an awesome snake\n"
     ]
    }
   ],
   "source": [
    "#advanced string manipulation\n",
    "prefix = \"python is an \"\n",
    "suffix = \"awesome language\"\n",
    "astr = prefix + suffix\n",
    "print(astr)\n",
    "astr=astr.replace(\"language\",\"snake\")\n",
    "print(astr)\n",
    "astr=astr*2\n",
    "print(astr)\n",
    "astr=astr.replace(\"snake\",\"language\",1)# 1 represents number of times to replace\n",
    "print(astr)"
   ]
  },
  {
   "cell_type": "code",
   "execution_count": 28,
   "id": "6f4b014f",
   "metadata": {},
   "outputs": [
    {
     "name": "stdout",
     "output_type": "stream",
     "text": [
      "3\n"
     ]
    }
   ],
   "source": [
    "print(astr.count(\"an\"))"
   ]
  },
  {
   "cell_type": "code",
   "execution_count": 40,
   "id": "16c55704",
   "metadata": {},
   "outputs": [
    {
     "name": "stdout",
     "output_type": "stream",
     "text": [
      "my number is 11\n",
      "my number is 1011\n",
      "1.234560\n",
      "1.235\n",
      "      1.235\n",
      "11 1.23456 computer\n",
      "santosh owns 5 of choclates\n"
     ]
    }
   ],
   "source": [
    "#string formatting\n",
    "n = 11\n",
    "f = 1.23456\n",
    "s = \"computer\"\n",
    "print(\"my number is {:d}\".format(n))\n",
    "print(\"my number is {:b}\".format(n))\n",
    "print(\"{:f}\".format(f))\n",
    "print(\"{:.3f}\".format(f)) #3 represents number of decimals\n",
    "print(\"{:11.3f}\".format(f)) #11 represents number of characters\n",
    "print(\"{0} {1} {2}\".format(n,f,s)) #printing all together\n",
    "print(\"{name} owns {amount} of {object}\".format(\n",
    "    name = \"santosh\",\n",
    "    amount = 5,\n",
    "    object = \"choclates\"\n",
    "))"
   ]
  },
  {
   "cell_type": "code",
   "execution_count": 3,
   "id": "6bc955d7",
   "metadata": {},
   "outputs": [
    {
     "name": "stdout",
     "output_type": "stream",
     "text": [
      "please enter your first name:boggarapu\n",
      "please enter your middle name:rama\n",
      "please enter your last namesai santosh\n",
      "Boggarapu R Sai santosh\n"
     ]
    }
   ],
   "source": [
    "first_name=str(input(\"please enter your first name:\"))\n",
    "middle_name=str(input(\"please enter your middle name:\"))\n",
    "last_name=str(input(\"please enter your last name\"))\n",
    "first_name = first_name.capitalize()\n",
    "middle_name = middle_name.capitalize()\n",
    "last_name=last_name.capitalize()\n",
    "name_format=\"{first} {middle:.1s} {last}\"\n",
    "print(name_format.format(first=first_name,middle=middle_name,last=last_name))\n"
   ]
  },
  {
   "cell_type": "code",
   "execution_count": 2,
   "id": "359a933d",
   "metadata": {},
   "outputs": [
    {
     "name": "stdout",
     "output_type": "stream",
     "text": [
      "santosh\n",
      "jane\n",
      "mike\n",
      "['santosh', 'jane', 'mike']\n",
      "['santosh', 'mike']\n",
      "h\n"
     ]
    }
   ],
   "source": [
    "#lists\n",
    "number=[5,-6,2,4,-5,1]\n",
    "names=[\"santosh\",\"jane\",\"mike\"]\n",
    "print(names[0])\n",
    "print(names[1])\n",
    "print(names[2])\n",
    "print(names)\n",
    "del names[1]\n",
    "print(names)\n",
    "\n",
    "mystr= \"hello world\"\n",
    "print(mystr[0])\n"
   ]
  },
  {
   "cell_type": "code",
   "execution_count": 9,
   "id": "2cf2607f",
   "metadata": {},
   "outputs": [
    {
     "name": "stdout",
     "output_type": "stream",
     "text": [
      "['a', 'b', 'c', 'd', 'e', 'f']\n",
      "['a', 'b', 'c', 'd', 'e', 'f', 'g']\n",
      "d_index :3\n",
      "['a', 'b', 'c', 'e', 'f', 'g']\n",
      "['a', 'b', 'e', 'f', 'g']\n"
     ]
    }
   ],
   "source": [
    "alpha=[\"a\",\"b\",\"c\",\"d\"]\n",
    "alpha.append(\"e\")\n",
    "alpha.append(\"f\")\n",
    "print(alpha)\n",
    "alpha=alpha + [\"g\"]\n",
    "print(alpha)\n",
    "d_index=alpha.index(\"d\")\n",
    "print(\"d_index :\"+str(d_index))\n",
    "del alpha[d_index]\n",
    "print(alpha)\n",
    "alpha.remove(\"c\")\n",
    "print(alpha)"
   ]
  },
  {
   "cell_type": "code",
   "execution_count": 3,
   "id": "9134fd8e",
   "metadata": {},
   "outputs": [
    {
     "name": "stdout",
     "output_type": "stream",
     "text": [
      "['a', 'b', 'd', 'e', 'f']\n",
      "['a', 'b', 'c', 'd', 'e', 'f']\n"
     ]
    }
   ],
   "source": [
    "alpha1=[\"a\",\"f\",\"b\",\"e\",\"d\"]\n",
    "alpha2=[\"jklaspqcd\"]\n",
    "alpha1.sort()\n",
    "print(alpha1)\n",
    "alpha1.insert(2,\"c\")\n",
    "print(alpha1)"
   ]
  },
  {
   "cell_type": "code",
   "execution_count": 4,
   "id": "47177e44",
   "metadata": {},
   "outputs": [
    {
     "name": "stdout",
     "output_type": "stream",
     "text": [
      "abcdef\n"
     ]
    }
   ],
   "source": [
    "alpha1=''.join(alpha1)\n",
    "print(alpha1)"
   ]
  },
  {
   "cell_type": "code",
   "execution_count": 12,
   "id": "9dcb6de7",
   "metadata": {},
   "outputs": [
    {
     "name": "stdout",
     "output_type": "stream",
     "text": [
      "-5\n",
      "10000\n",
      "10025.14\n",
      "5\n",
      "r\n",
      "H\n",
      "10\n"
     ]
    }
   ],
   "source": [
    "numbers=[3.14,-5,10,10**4,17]\n",
    "hello_world=\"HelloWorld\"\n",
    "print(min(numbers))\n",
    "print(max(numbers))\n",
    "print(sum(numbers))\n",
    "print(len(numbers))\n",
    "print(max(hello_world))\n",
    "print(min(hello_world))\n",
    "print(len(hello_world))"
   ]
  },
  {
   "cell_type": "code",
   "execution_count": 2,
   "id": "076dbc6d",
   "metadata": {},
   "outputs": [
    {
     "name": "stdout",
     "output_type": "stream",
     "text": [
      "11\n",
      "[[1, 2, 3, 4, 5, 6, 7], [8, 9, 10, 11, 12, 13, 14, 15], [16, 17, 18, 19, 20, 21, 22]]\n",
      "[[1, 2, 3, 4, 5, 6, 7],\n",
      " [8, 9, 10, 11, 12, 13, 14, 15],\n",
      " [16, 17, 18, 19, 20, 21, 22]]\n"
     ]
    }
   ],
   "source": [
    "nums_2d=[\n",
    "    [1,2,3,4,5,6,7],\n",
    "    [8,9,10,11,12,13,14,15],\n",
    "    [16,17,18,19,20,21,22]\n",
    "]\n",
    "print(nums_2d[1][3])\n",
    "print(nums_2d)\n",
    "from pprint import pprint as pretty_print\n",
    "pretty_print(nums_2d)"
   ]
  },
  {
   "cell_type": "code",
   "execution_count": 15,
   "id": "a7a09c02",
   "metadata": {
    "scrolled": true
   },
   "outputs": [
    {
     "name": "stdout",
     "output_type": "stream",
     "text": [
      "[['A', 'B', 'C', 'D', 'E'],\n",
      " ['A', 'B', 'C', 'D', 'E'],\n",
      " ['A', 'B', 'C', 'D', 'E']]\n",
      "[['F', 'B', 'C', 'D', 'E'],\n",
      " ['F', 'B', 'C', 'D', 'E'],\n",
      " ['F', 'B', 'C', 'D', 'E']]\n"
     ]
    }
   ],
   "source": [
    "letters=[\"A\",\"B\",\"C\",\"D\",\"E\"]\n",
    "letters_2d=[letters,letters,letters]\n",
    "pretty_print(letters_2d)\n",
    "letters_2d[0][0]='F'\n",
    "pretty_print(letters_2d)"
   ]
  },
  {
   "cell_type": "code",
   "execution_count": 21,
   "id": "04ec7a04",
   "metadata": {},
   "outputs": [
    {
     "name": "stdout",
     "output_type": "stream",
     "text": [
      "[0, 1, 2, 3, 4, 5, 6, 7, 8, 9]\n",
      "[0, 1, 2, 3, 4]\n",
      "[2, 3, 4, 5, 6, 7, 8, 9]\n",
      "[0]\n",
      "[0, 2, 4, 6, 8]\n",
      "[0, 2, 4]\n",
      "[0, 2]\n",
      "9\n",
      "8\n",
      "[2, 3, 4, 5, 6, 7]\n",
      "[9, 8, 7, 6, 5, 4, 3, 2, 1, 0]\n",
      "[9, 8, 7, 6, 5, 4, 3, 2, 1, 0]\n"
     ]
    }
   ],
   "source": [
    "#slicing \n",
    "a=list(range(0,10))\n",
    "print(a)\n",
    "print(a[0:5])\n",
    "print(a[2:len(a)])\n",
    "print(a[:1])\n",
    "print(a[::2])\n",
    "print(a[:6:2])\n",
    "print(a[:3:2])\n",
    "print(a[-1])\n",
    "print(a[-2])\n",
    "print(a[2:-2])\n",
    "print(a[::-1])\n",
    "print(a[::-1])"
   ]
  },
  {
   "cell_type": "code",
   "execution_count": 22,
   "id": "69220378",
   "metadata": {},
   "outputs": [
    {
     "name": "stdout",
     "output_type": "stream",
     "text": [
      "age is 35\n"
     ]
    }
   ],
   "source": [
    "#controlflow\n",
    "age=35\n",
    "if age==35:\n",
    "    print(\"age is 35\")"
   ]
  },
  {
   "cell_type": "code",
   "execution_count": 24,
   "id": "d441f797",
   "metadata": {},
   "outputs": [
    {
     "name": "stdout",
     "output_type": "stream",
     "text": [
      "true\n",
      "yes\n"
     ]
    }
   ],
   "source": [
    "name=\"megan\"\n",
    "if name==\"megan\":\n",
    "    print(\"true\")\n",
    "    if age==35:\n",
    "        print(\"yes\")"
   ]
  },
  {
   "cell_type": "code",
   "execution_count": 1,
   "id": "379c80c6",
   "metadata": {},
   "outputs": [
    {
     "name": "stdout",
     "output_type": "stream",
     "text": [
      "0\n",
      "it  is a null value\n"
     ]
    }
   ],
   "source": [
    "t=int(input())\n",
    "if(t<0):\n",
    "    print(\"it is a negative number\")\n",
    "if(t==0):\n",
    "    print(\"it  is a null value\")\n",
    "if(t>0):\n",
    "    print(\"it is a postive number\")\n"
   ]
  },
  {
   "cell_type": "code",
   "execution_count": 6,
   "id": "bd689ea9",
   "metadata": {},
   "outputs": [
    {
     "name": "stdout",
     "output_type": "stream",
     "text": [
      "name was not john and sarah\n"
     ]
    }
   ],
   "source": [
    "name=\"santosh\"\n",
    "if name==\"john\":\n",
    "    print(\"john\")\n",
    "elif name==\"sarah\":\n",
    "    print(\"sarah\")\n",
    "else:\n",
    "    print(\"name was not john and sarah\")"
   ]
  },
  {
   "cell_type": "code",
   "execution_count": 8,
   "id": "2933aa75",
   "metadata": {},
   "outputs": [
    {
     "name": "stdout",
     "output_type": "stream",
     "text": [
      "n is less than 60\n"
     ]
    }
   ],
   "source": [
    "n=55\n",
    "if n<20:\n",
    "    print(\"n is less than 20\")\n",
    "elif n<40:\n",
    "    print(\"n is less than 40\")\n",
    "elif n<60:\n",
    "    print(\"n is less than 60\")\n",
    "else :\n",
    "    print(\" n is 55\")\n",
    "     "
   ]
  },
  {
   "cell_type": "code",
   "execution_count": 11,
   "id": "be5f0a66",
   "metadata": {},
   "outputs": [
    {
     "name": "stdout",
     "output_type": "stream",
     "text": [
      "False True\n"
     ]
    }
   ],
   "source": [
    "statement1 = 3>4\n",
    "statement2 = 10%5 == 0\n",
    "print(statement1,statement2)"
   ]
  },
  {
   "cell_type": "code",
   "execution_count": 12,
   "id": "ece89108",
   "metadata": {},
   "outputs": [
    {
     "name": "stdout",
     "output_type": "stream",
     "text": [
      "F OR T\n",
      "T OR F\n",
      "T OR T\n"
     ]
    }
   ],
   "source": [
    "if F or F:print(\"F OR F\")\n",
    "if F or T:print(\"F OR T\")\n",
    "if T or F:print(\"T OR F\")\n",
    "if T or T:print(\"T OR T\")\n",
    "    \n",
    "        "
   ]
  },
  {
   "cell_type": "code",
   "execution_count": 13,
   "id": "2b89a020",
   "metadata": {},
   "outputs": [
    {
     "name": "stdout",
     "output_type": "stream",
     "text": [
      "T OR T\n"
     ]
    }
   ],
   "source": [
    "if F and F:print(\"F OR F\")\n",
    "if F and T:print(\"F OR T\")\n",
    "if T and F:print(\"T OR F\")\n",
    "if T and T:print(\"T OR T\")"
   ]
  },
  {
   "cell_type": "code",
   "execution_count": 14,
   "id": "a7170fb7",
   "metadata": {},
   "outputs": [
    {
     "name": "stdout",
     "output_type": "stream",
     "text": [
      "False\n"
     ]
    }
   ],
   "source": [
    "print(3==6)"
   ]
  },
  {
   "cell_type": "code",
   "execution_count": 15,
   "id": "bcb46f86",
   "metadata": {},
   "outputs": [
    {
     "name": "stdout",
     "output_type": "stream",
     "text": [
      "a= 10\n",
      "b= 5\n",
      "divisible\n"
     ]
    }
   ],
   "source": [
    "#write a program that given two numbers a,b print \"divisible if one of the two numbers divides the other\n",
    "a,b=int(input(\"a= \")),int(input(\"b= \"))\n",
    "if a%b==0 or b%a==0:\n",
    "    print(\"divisible\")\n"
   ]
  },
  {
   "cell_type": "code",
   "execution_count": 18,
   "id": "c06558ad",
   "metadata": {},
   "outputs": [
    {
     "name": "stdout",
     "output_type": "stream",
     "text": [
      "a= 10\n",
      "b= 5\n",
      "2.0\n"
     ]
    }
   ],
   "source": [
    "a,b=int(input(\"a= \")),int(input(\"b= \"))\n",
    "if b!=0: print(a/b)\n",
    "    "
   ]
  },
  {
   "cell_type": "code",
   "execution_count": 20,
   "id": "0d40f750",
   "metadata": {},
   "outputs": [
    {
     "name": "stdout",
     "output_type": "stream",
     "text": [
      "name1: Santosh\n",
      "name2: SANTOSH\n",
      "name3: santosh\n",
      "equal\n"
     ]
    }
   ],
   "source": [
    "#write a program that given three names prints\"eaual\"\n",
    "#if all three names are equal to each other when lower case\n",
    "name1=input(\"name1: \")\n",
    "name2=input(\"name2: \")\n",
    "name3=input(\"name3: \")\n",
    "if name1.lower()==name2.lower()==name3.lower():\n",
    "    print(\"equal\")\n"
   ]
  },
  {
   "cell_type": "code",
   "execution_count": 21,
   "id": "b1a76810",
   "metadata": {},
   "outputs": [
    {
     "name": "stdout",
     "output_type": "stream",
     "text": [
      "name1: james\n",
      "name2: hoj\n",
      "name3: john\n"
     ]
    }
   ],
   "source": [
    "#write a program that given three names prints\"eaual\"\n",
    "#if all three names are equal to each other when lower case\n",
    "name1=input(\"name1: \")\n",
    "name2=input(\"name2: \")\n",
    "name3=input(\"name3: \")\n",
    "if name1.lower()==name2.lower()==name3.lower():\n",
    "    print(\"equal\")\n"
   ]
  },
  {
   "cell_type": "code",
   "execution_count": 30,
   "id": "56c7115e",
   "metadata": {},
   "outputs": [
    {
     "name": "stdout",
     "output_type": "stream",
     "text": [
      "5 * 9\n",
      "5 * 9=45.00\n"
     ]
    }
   ],
   "source": [
    "import sys\n",
    "line = input()\n",
    "split=line.split()\n",
    "left=int(split[0])\n",
    "op = split[1]\n",
    "right=int(split[2])\n",
    "val=0\n",
    "if op == '+':\n",
    "    val=left + right\n",
    "elif op == '-':\n",
    "    val = left - right\n",
    "elif op == '*':\n",
    "    val = left * right\n",
    "elif op == '/':\n",
    "    if right == 0:\n",
    "        print(\"Division by zero.Halting\")\n",
    "        sys.exit()\n",
    "    val=left/right\n",
    "else:\n",
    "    print(\"Unknown Operator: {operator}\".format(operator=op))\n",
    "    sys.exit()\n",
    "print(\"{line_expr}={value:.2f}\".format(line_expr=line,value=val))"
   ]
  },
  {
   "cell_type": "code",
   "execution_count": 31,
   "id": "ec8cab1b",
   "metadata": {},
   "outputs": [
    {
     "name": "stdout",
     "output_type": "stream",
     "text": [
      "2\n",
      "4\n",
      "6\n",
      "8\n",
      "10\n"
     ]
    }
   ],
   "source": [
    "for even_number in [2,4,6,8,10]:\n",
    "    print(even_number)"
   ]
  },
  {
   "cell_type": "code",
   "execution_count": 35,
   "id": "51062d97",
   "metadata": {},
   "outputs": [
    {
     "name": "stdout",
     "output_type": "stream",
     "text": [
      "1\n",
      "3\n",
      "5\n",
      "7\n",
      "9\n",
      "11\n",
      "range(0, 6)\n",
      "index : 0,odd number : 1 \n",
      "index : 1,odd number : 3 \n",
      "index : 2,odd number : 5 \n",
      "index : 3,odd number : 7 \n",
      "index : 4,odd number : 9 \n",
      "index : 5,odd number : 11 \n"
     ]
    }
   ],
   "source": [
    "odds=[1,3,5,7,9,11]\n",
    "for odd_number in odds:\n",
    "    print(odd_number)\n",
    "print(range(len(odds)))\n",
    "\n",
    "for index in range(len(odds)):\n",
    "    print(\"index : {:d},odd number : {:d} \".format(index,odds[index]))"
   ]
  },
  {
   "cell_type": "code",
   "execution_count": 1,
   "id": "2797e8ce",
   "metadata": {},
   "outputs": [
    {
     "name": "stdout",
     "output_type": "stream",
     "text": [
      "santosh\n",
      "john\n",
      "venu\n",
      "srinu\n"
     ]
    }
   ],
   "source": [
    "index = 0\n",
    "names =[\"santosh\",\"john\",\"venu\",\"srinu\"]\n",
    "while index < len(names):\n",
    "    name=names[index]\n",
    "    print(name)\n",
    "    index=index+1"
   ]
  },
  {
   "cell_type": "code",
   "execution_count": 3,
   "id": "8005a38b",
   "metadata": {},
   "outputs": [
    {
     "name": "stdout",
     "output_type": "stream",
     "text": [
      "5050\n"
     ]
    }
   ],
   "source": [
    "total=0\n",
    "v=1\n",
    "while v<=100:\n",
    "    total = total+v\n",
    "    v=v+1\n",
    "print(total)\n",
    "\n"
   ]
  },
  {
   "cell_type": "code",
   "execution_count": 4,
   "id": "2ccd834e",
   "metadata": {},
   "outputs": [
    {
     "name": "stdout",
     "output_type": "stream",
     "text": [
      "a: 2\n",
      "b: 5\n",
      "please make sure a+b=20\n",
      "a: 10\n",
      "b: 3\n",
      "please make sure a+b=20\n",
      "a: 10\n",
      "b: 10\n",
      "Stopping loop\n"
     ]
    }
   ],
   "source": [
    "while True:\n",
    "    a,b = int(input(\"a: \")),int(input(\"b: \"))\n",
    "    if a + b ==20:\n",
    "        print(\"Stopping loop\")\n",
    "        break\n",
    "    else:\n",
    "        print(\"please make sure a+b=20\")"
   ]
  },
  {
   "cell_type": "code",
   "execution_count": 5,
   "id": "70c511ef",
   "metadata": {},
   "outputs": [
    {
     "name": "stdout",
     "output_type": "stream",
     "text": [
      "20\n"
     ]
    }
   ],
   "source": [
    "numbers=[1,2,3,4,5,6,7,8,9]\n",
    "total = 0\n",
    "for n in numbers:\n",
    "    if n%2==0:\n",
    "        total = total + n\n",
    "print(total)"
   ]
  },
  {
   "cell_type": "code",
   "execution_count": 1,
   "id": "f00fb304",
   "metadata": {},
   "outputs": [
    {
     "name": "stdout",
     "output_type": "stream",
     "text": [
      "20\n"
     ]
    }
   ],
   "source": [
    "numbers = [1,2,3,4,5,6,7,8]\n",
    "total = 0\n",
    "for n in numbers:\n",
    "    if n%2==0:\n",
    "        total=total + n\n",
    "print(total)\n",
    "        "
   ]
  },
  {
   "cell_type": "code",
   "execution_count": 2,
   "id": "cc5f4553",
   "metadata": {},
   "outputs": [
    {
     "name": "stdout",
     "output_type": "stream",
     "text": [
      "Pcktpblshngrcks\n"
     ]
    }
   ],
   "source": [
    "alpha = 'abcdefghijklmnopqrstuvwxyzABCDEFGHIJKLMNOPQRSTUVWXYZ'\n",
    "vowels = 'aeiouAEIOU'\n",
    "my_string = \"Packt publishing rocks!\"\n",
    "characters =[]\n",
    "for ch in my_string:\n",
    "    if ch not in vowels and ch in alpha:\n",
    "        characters.append(ch)\n",
    "consonants = ''.join(characters)\n",
    "print(consonants)\n"
   ]
  },
  {
   "cell_type": "code",
   "execution_count": 2,
   "id": "31b5c967",
   "metadata": {},
   "outputs": [
    {
     "name": "stdout",
     "output_type": "stream",
     "text": [
      "n is50\n",
      "50 is not prime because [2, 5, 10, 25] divide 50\n"
     ]
    }
   ],
   "source": [
    "n=int(input('n is'))\n",
    "divisors=[]\n",
    "for divisor in range(2,n):\n",
    "    if n%divisor==0:\n",
    "        divisors.append(divisor)\n",
    "if len(divisors)==0:\n",
    "    print(\"{:d} is prime\".format(n))\n",
    "else:\n",
    "    print(\"{:d} is not prime because {:} divide {:d}\".format(n,str(divisors),n))"
   ]
  },
  {
   "cell_type": "code",
   "execution_count": 7,
   "id": "879d5eae",
   "metadata": {},
   "outputs": [
    {
     "name": "stdout",
     "output_type": "stream",
     "text": [
      "3.14\n",
      "12.56\n",
      "28.259999999999998\n",
      "50.24\n",
      "78.5\n",
      "113.03999999999999\n",
      "153.86\n",
      "200.96\n",
      "254.34\n",
      "314.0\n"
     ]
    }
   ],
   "source": [
    "pi = 3.14\n",
    "def circle_area(r):\n",
    "    return pi*r*r\n",
    "numbers=[1,2,3,4,5,6,7,8,9]\n",
    "for n in range(1,11):\n",
    "        print(circle_area(n))"
   ]
  },
  {
   "cell_type": "code",
   "execution_count": 8,
   "id": "1237ef10",
   "metadata": {},
   "outputs": [
    {
     "name": "stdout",
     "output_type": "stream",
     "text": [
      "12.56\n"
     ]
    }
   ],
   "source": [
    "pi = 3.14\n",
    "def circle_area(r):\n",
    "    return pi*r*r\n",
    "print(circle_area(2))"
   ]
  },
  {
   "cell_type": "code",
   "execution_count": 9,
   "id": "02505b19",
   "metadata": {},
   "outputs": [
    {
     "name": "stdout",
     "output_type": "stream",
     "text": [
      "6\n",
      "12\n"
     ]
    }
   ],
   "source": [
    "def add(a,b,c):\n",
    "    return a+b+c\n",
    "print(add(1,2,3))\n",
    "print(add(3,4,5))\n"
   ]
  },
  {
   "cell_type": "code",
   "execution_count": 10,
   "id": "b0e1f7b1",
   "metadata": {},
   "outputs": [
    {
     "name": "stdout",
     "output_type": "stream",
     "text": [
      "55\n"
     ]
    }
   ],
   "source": [
    "def add(*numbers):\n",
    "    total = 0\n",
    "    for n in numbers:\n",
    "        total = total + n\n",
    "    return total\n",
    "print(add(1,2,3,4,5,6,7,8,9,10))"
   ]
  },
  {
   "cell_type": "code",
   "execution_count": 13,
   "id": "8fd9ea3a",
   "metadata": {},
   "outputs": [
    {
     "name": "stdout",
     "output_type": "stream",
     "text": [
      "it is the evening,time:2022-08-04 17:20:08.833526\n"
     ]
    }
   ],
   "source": [
    "import datetime as dt\n",
    "def record_time(message,time=dt.datetime.now()):\n",
    "    print(\"{:},time:{:}\".format(message,time))\n",
    "record_time(\"it is the evening\")"
   ]
  },
  {
   "cell_type": "code",
   "execution_count": 16,
   "id": "dda6d6da",
   "metadata": {},
   "outputs": [
    {
     "name": "stdout",
     "output_type": "stream",
     "text": [
      "False\n",
      "True\n"
     ]
    }
   ],
   "source": [
    "def is_even(number):\n",
    "    if number % 2 == 0:\n",
    "        return True\n",
    "    return False\n",
    "print(is_even(5))\n",
    "print(is_even(4))"
   ]
  },
  {
   "cell_type": "code",
   "execution_count": 18,
   "id": "bd808296",
   "metadata": {},
   "outputs": [
    {
     "name": "stdout",
     "output_type": "stream",
     "text": [
      "hsotnas\n",
      "30026051\n"
     ]
    }
   ],
   "source": [
    "def reverse(s):\n",
    "    new_str = \"\"\n",
    "    for i in range(len(s)):\n",
    "        new_str=new_str+s[len(s)-i-1]\n",
    "    return new_str\n",
    "print(reverse(\"santosh\"))\n",
    "print(reverse(\"15062003\"))"
   ]
  },
  {
   "cell_type": "code",
   "execution_count": 24,
   "id": "54958a07",
   "metadata": {},
   "outputs": [
    {
     "name": "stdout",
     "output_type": "stream",
     "text": [
      "Yes it is a palindrome\n",
      "None\n",
      "Yes it is a palindrome\n",
      "None\n"
     ]
    }
   ],
   "source": [
    "def is_palindrome(p):\n",
    "    for i in range(len(p)//2):\n",
    "        if p[i] != p[len(p)-i-1]:\n",
    "            print (\"no it is not palindrome\")\n",
    "            return\n",
    "    print(\"Yes it is a palindrome\")\n",
    "print(is_palindrome(\"1221\"))\n",
    "print(is_palindrome(\"amma\"))"
   ]
  },
  {
   "cell_type": "code",
   "execution_count": 25,
   "id": "a3389d8c",
   "metadata": {},
   "outputs": [
    {
     "name": "stdout",
     "output_type": "stream",
     "text": [
      "Yes this is a palindrome\n",
      "None\n",
      "Yes this is a palindrome\n",
      "None\n"
     ]
    }
   ],
   "source": [
    "def is_palindrome(s):\n",
    "    if s==s[::-1]:\n",
    "        print(\"Yes this is a palindrome\")\n",
    "    else:\n",
    "        print(\"No This is not a palindrome\")\n",
    "print(is_palindrome(\"1221\"))\n",
    "print(is_palindrome(\"amma\"))"
   ]
  },
  {
   "cell_type": "code",
   "execution_count": 33,
   "id": "3f08f07a",
   "metadata": {},
   "outputs": [
    {
     "name": "stdout",
     "output_type": "stream",
     "text": [
      "zexhofixhpexkvx\n",
      "iloveyou\n"
     ]
    }
   ],
   "source": [
    "alpha = \"abcdefghijklmnopqrstuvwxyz\"\n",
    "def encrypt(s,shift=3):\n",
    "    encrypted_str=\"\"\n",
    "    for c in s:\n",
    "        index = alpha.index(c)\n",
    "        shifted_index = (index + shift) % len(alpha)\n",
    "        encrypted_str += alpha[shifted_index]\n",
    "    return encrypted_str\n",
    "def decrypt(e,shift=3):\n",
    "    decrypted_str=\"\"\n",
    "    for c in e:\n",
    "        index = alpha.index(c)\n",
    "        shifted_index = (index - shift) % len(alpha)\n",
    "        decrypted_str += alpha[shifted_index]\n",
    "    return decrypted_str\n",
    "print(encrypt(\"zexhofixhpexkvx\"))"
   ]
  },
  {
   "cell_type": "code",
   "execution_count": 35,
   "id": "abb16a43",
   "metadata": {},
   "outputs": [
    {
     "name": "stdout",
     "output_type": "stream",
     "text": [
      "32\n"
     ]
    }
   ],
   "source": [
    "#recursion\n",
    "def exponentiate(b,e):\n",
    "    if(e==0):\n",
    "        return 1\n",
    "    return exponentiate(b,e-1)*b\n",
    "print(exponentiate(2,5))"
   ]
  },
  {
   "cell_type": "code",
   "execution_count": 36,
   "id": "1607ce95",
   "metadata": {},
   "outputs": [
    {
     "name": "stdout",
     "output_type": "stream",
     "text": [
      "2\n"
     ]
    }
   ],
   "source": [
    "def count_vowels(s,i=0):\n",
    "    if (i== len(s)):\n",
    "        return 0\n",
    "    c = s[i]\n",
    "    if c in 'aeiou':\n",
    "        return count_vowels(s,i+1)+1\n",
    "    return count_vowels(s,i+1)+0\n",
    "print(count_vowels(\"santosh\"))"
   ]
  },
  {
   "cell_type": "code",
   "execution_count": 1,
   "id": "39e5ddda",
   "metadata": {},
   "outputs": [
    {
     "name": "stdout",
     "output_type": "stream",
     "text": [
      "12\n"
     ]
    }
   ],
   "source": [
    "def digit_sum(n):\n",
    "    if n==0: return 0\n",
    "    return digit_sum(n//10)+n%10\n",
    "print(digit_sum(345))"
   ]
  },
  {
   "cell_type": "code",
   "execution_count": 3,
   "id": "c5606419",
   "metadata": {},
   "outputs": [
    {
     "name": "stdout",
     "output_type": "stream",
     "text": [
      "8\n"
     ]
    }
   ],
   "source": [
    "def fib(n):\n",
    "    if n==0 or n==1:\n",
    "        return 1\n",
    "    return fib(n-2)*(n-1)\n",
    "print(fib(5))"
   ]
  },
  {
   "cell_type": "code",
   "execution_count": 4,
   "id": "25ac070a",
   "metadata": {},
   "outputs": [
    {
     "name": "stdout",
     "output_type": "stream",
     "text": [
      "3.141592653589793\n",
      "-1.0\n"
     ]
    }
   ],
   "source": [
    "import math\n",
    "print(math.pi)\n",
    "print(math.cos(math.pi))"
   ]
  },
  {
   "cell_type": "code",
   "execution_count": 5,
   "id": "ded2d14a",
   "metadata": {},
   "outputs": [
    {
     "name": "stdout",
     "output_type": "stream",
     "text": [
      "3.141592653589793\n"
     ]
    }
   ],
   "source": [
    "from math import pi\n",
    "print(pi)"
   ]
  },
  {
   "cell_type": "code",
   "execution_count": 7,
   "id": "b4870775",
   "metadata": {},
   "outputs": [
    {
     "name": "stdout",
     "output_type": "stream",
     "text": [
      "1.2246467991473532e-16\n",
      "720\n"
     ]
    }
   ],
   "source": [
    "from math import *\n",
    "print(sin(pi))\n",
    "print(factorial(6))"
   ]
  },
  {
   "cell_type": "code",
   "execution_count": 8,
   "id": "e8dc9400",
   "metadata": {},
   "outputs": [
    {
     "name": "stdout",
     "output_type": "stream",
     "text": [
      "120\n"
     ]
    }
   ],
   "source": [
    "from math import factorial as f\n",
    "print(f(5))"
   ]
  },
  {
   "cell_type": "code",
   "execution_count": 2,
   "id": "91af064d",
   "metadata": {},
   "outputs": [],
   "source": [
    "from math import pi\n",
    "def sphere_vol(r):\n",
    "        return (4/3)*pi*r*r*r\n",
    "def cube_vol(l,w,h):\n",
    "        return l*w*h\n",
    "def cone_vol(r,h):\n",
    "        return (pi*r*r)*h/3"
   ]
  },
  {
   "cell_type": "code",
   "execution_count": 7,
   "id": "c49ff0d6",
   "metadata": {},
   "outputs": [
    {
     "name": "stdout",
     "output_type": "stream",
     "text": [
      "Testing string functions\n"
     ]
    }
   ],
   "source": [
    "def first_half(s):\n",
    "    return s[:len(s)//2]\n",
    "def last_half(s):\n",
    "    return s[len(s)//2:]\n",
    "if __name__ == '__main__':\n",
    "    print(\"Testing string functions\")\n",
    "    assert first_half(\"abcd\")==\"ab\"\n",
    "    assert last_half(\"abcd\")==\"cd\""
   ]
  },
  {
   "cell_type": "code",
   "execution_count": 9,
   "id": "9fcb9a2d",
   "metadata": {},
   "outputs": [],
   "source": [
    "from PIL  import Image\n",
    "santosh_img = Image.open('santoshhero.jpeg')\n",
    "santosh_img.show()"
   ]
  },
  {
   "cell_type": "code",
   "execution_count": 11,
   "id": "0e2bed08",
   "metadata": {},
   "outputs": [],
   "source": [
    "from PIL import Image\n",
    "\n",
    "def resize_images(image_names,new_size=(200,200)):\n",
    "    for image_name in image_names:\n",
    "        img = Image.open(image_name)\n",
    "        img = img.resize(new_size)\n",
    "        img.save(\"resized_\"+image_name)\n",
    "images = [\"santoshhero.jpeg\"]\n",
    "resize_images(images)"
   ]
  },
  {
   "cell_type": "code",
   "execution_count": 12,
   "id": "fbca8a2e",
   "metadata": {},
   "outputs": [],
   "source": [
    "santu_img = Image.open(\"santoshhero.jpeg\")\n",
    "santu_img = santu_img.crop((100,100,300,300))\n",
    "santu_img.show()"
   ]
  },
  {
   "cell_type": "code",
   "execution_count": 14,
   "id": "432d730f",
   "metadata": {},
   "outputs": [],
   "source": [
    "\n",
    "santu_img = Image.open(\"santoshhero.jpeg\")\n",
    "santu_img = santu_img.rotate(90)\n",
    "santu_img.show()"
   ]
  },
  {
   "cell_type": "code",
   "execution_count": 19,
   "id": "f1b30125",
   "metadata": {},
   "outputs": [],
   "source": [
    "from PIL import Image,ImageFilter,ImageEnhance\n",
    "san_img = Image.open('santoshhero.jpeg')\n",
    "grayscale = san_img.convert('L')\n",
    "grayscale.show()"
   ]
  },
  {
   "cell_type": "code",
   "execution_count": 16,
   "id": "c96cb7d5",
   "metadata": {},
   "outputs": [],
   "source": [
    "edge_detect=san_img.filter(ImageFilter.FIND_EDGES)\n",
    "edge_detect.show()"
   ]
  },
  {
   "cell_type": "code",
   "execution_count": 18,
   "id": "aedaf1b7",
   "metadata": {},
   "outputs": [],
   "source": [
    "contrast = ImageEnhance.Contrast(san_img).enhance(1.5)\n",
    "contrast.show()"
   ]
  },
  {
   "cell_type": "code",
   "execution_count": 20,
   "id": "6c899125",
   "metadata": {},
   "outputs": [],
   "source": [
    "brightness = ImageEnhance.Brightness(contrast).enhance(2)\n",
    "brightness.show()"
   ]
  },
  {
   "cell_type": "code",
   "execution_count": 21,
   "id": "b603fd2e",
   "metadata": {},
   "outputs": [],
   "source": [
    "santu_img = Image.open(\"santoshhero.jpeg\")\n",
    "width,height = santu_img.size\n",
    "for x in range(width):\n",
    "    for y in range(height):\n",
    "        pixel_coordinate = (x,y)\n",
    "        r,g,b = santu_img.getpixel(pixel_coordinate)\n",
    "        negative_color = (255-r,255-g,255-b)\n",
    "        santu_img.putpixel(pixel_coordinate,negative_color)\n",
    "santu_img.show()"
   ]
  },
  {
   "cell_type": "code",
   "execution_count": null,
   "id": "362e0c6f",
   "metadata": {},
   "outputs": [],
   "source": []
  }
 ],
 "metadata": {
  "kernelspec": {
   "display_name": "Python 3",
   "language": "python",
   "name": "python3"
  },
  "language_info": {
   "codemirror_mode": {
    "name": "ipython",
    "version": 3
   },
   "file_extension": ".py",
   "mimetype": "text/x-python",
   "name": "python",
   "nbconvert_exporter": "python",
   "pygments_lexer": "ipython3",
   "version": "3.8.8"
  }
 },
 "nbformat": 4,
 "nbformat_minor": 5
}
